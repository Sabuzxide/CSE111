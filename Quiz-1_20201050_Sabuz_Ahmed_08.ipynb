{
 "cells": [
  {
   "cell_type": "code",
   "execution_count": 1,
   "metadata": {},
   "outputs": [
    {
     "data": {
      "text/plain": [
       "{'B': {'Bob': '01932342392', 'Britney': '01303544535'},\n",
       " 'A': {'Alice': '01546734123', 'Aeron': '01723454642'},\n",
       " 'S': {'Smith': '01923457890'},\n",
       " 'T': {'Tarek': '09663922'},\n",
       " 'C': {'Carol': '01823456785'}}"
      ]
     },
     "execution_count": 1,
     "metadata": {},
     "output_type": "execute_result"
    }
   ],
   "source": [
    "#Quiz-1\n",
    "contacts='Bob 01932342392 Alice 01546734123 Britney 01303544535 Aeron 01723454642 Smith 01923457890 Tarek 09663922 Carol 01823456785'\n",
    "contacts1=contacts.split(\" \")\n",
    "cDic={}\n",
    "for r,v in enumerate(contacts1):\n",
    "  if(r%2==0):\n",
    "    if(cDic.get(v[0]) is None):\n",
    "      cDic[v[0]]={}\n",
    "    else:\n",
    "      pass\n",
    "    Nam=v\n",
    "  else:\n",
    "    cDic[Nam[0]][Nam]=v\n",
    "cDic"
   ]
  },
  {
   "cell_type": "code",
   "execution_count": null,
   "metadata": {},
   "outputs": [],
   "source": []
  }
 ],
 "metadata": {
  "kernelspec": {
   "display_name": "Python 3",
   "language": "python",
   "name": "python3"
  },
  "language_info": {
   "codemirror_mode": {
    "name": "ipython",
    "version": 3
   },
   "file_extension": ".py",
   "mimetype": "text/x-python",
   "name": "python",
   "nbconvert_exporter": "python",
   "pygments_lexer": "ipython3",
   "version": "3.8.5"
  }
 },
 "nbformat": 4,
 "nbformat_minor": 4
}
