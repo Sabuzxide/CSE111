{
 "cells": [
  {
   "cell_type": "code",
   "execution_count": 1,
   "metadata": {},
   "outputs": [
    {
     "name": "stdout",
     "output_type": "stream",
     "text": [
      "Input Please :HOuSE\n",
      "HOUSE\n"
     ]
    }
   ],
   "source": [
    "#STRING-1\n",
    "\n",
    "strin=input(\"Input Please :\")\n",
    "num_1 = 0\n",
    "num_2=0\n",
    "for i in  strin:\n",
    "    if 97<=ord(i)<=122:\n",
    "        num_1=num_1+1\n",
    "    if 65<= ord(i)<=90:\n",
    "        num_2=num_2+1\n",
    "if num_1<num_2:\n",
    "    print(strin.upper())\n",
    "if num_1 >= num_2:\n",
    "    print(strin.lower())"
   ]
  },
  {
   "cell_type": "code",
   "execution_count": 2,
   "metadata": {},
   "outputs": [
    {
     "name": "stdout",
     "output_type": "stream",
     "text": [
      "Enter input Please :bssjcsic7579\n",
      "MIXED\n"
     ]
    }
   ],
   "source": [
    "#STRING-2\n",
    "stri=input(\"Enter input Please :\")\n",
    "str_1 =stri.lower()\n",
    "min_num=0\n",
    "num_1=0\n",
    "max_num=0\n",
    "for i in str_1:\n",
    "    if 97<= ord(i)<=122:\n",
    "        min_num=min_num+1\n",
    "    elif 48<= ord(i)<=57:\n",
    "        num_1=num_1+1\n",
    "if min_num >0 and num_1 ==0:\n",
    "    print('WORD')\n",
    "if num_1>0 and min_num==0:\n",
    "    print('NUMBER')\n",
    "if num_1>0 and min_num>0:\n",
    "    print('MIXED')\n",
    "    "
   ]
  },
  {
   "cell_type": "code",
   "execution_count": 3,
   "metadata": {},
   "outputs": [
    {
     "name": "stdout",
     "output_type": "stream",
     "text": [
      "Enter input Please :baNgladEsh\n",
      "glad"
     ]
    }
   ],
   "source": [
    "#STRING-3\n",
    "\n",
    "stri = input(\"Enter input Please :\")\n",
    "li_st = []\n",
    "numbe_1 = -1\n",
    "numbe_2 = -1\n",
    "for i in range(0,len(stri)):\n",
    "    if (ord(stri[i])>=65 and ord(stri[i])<=90):\n",
    "        if (numbe_1== -1):\n",
    "            numbe_1 = i\n",
    "        else:\n",
    "            numbe_2 = i\n",
    "if (numbe_2-numbe_1-1==0):\n",
    "    print('Blank')\n",
    "else:\n",
    "    for i in range(numbe_1+1,numbe_2):\n",
    "        print(stri[i],end='')"
   ]
  },
  {
   "cell_type": "code",
   "execution_count": 4,
   "metadata": {},
   "outputs": [
    {
     "name": "stdout",
     "output_type": "stream",
     "text": [
      "Enter input Please :The book is not too good!\n",
      "The book is not excellent!\n"
     ]
    }
   ],
   "source": [
    "#STRING-4\n",
    "\n",
    "stri = input(\"Enter input Please :\")\n",
    "def phy_cool(stri):\n",
    "    new_ind = stri.find('too')\n",
    "    if ('good' in stri[new_ind + 3: new_ind + 8]):\n",
    "        print(stri.replace('too good', 'excellent'))\n",
    "    else:\n",
    "        print(stri)\n",
    "phy_cool(stri)"
   ]
  },
  {
   "cell_type": "code",
   "execution_count": 6,
   "metadata": {},
   "outputs": [
    {
     "name": "stdout",
     "output_type": "stream",
     "text": [
      "Enter Both Names: harry,hermione\n",
      "hrrhr\n"
     ]
    }
   ],
   "source": [
    "#STRING-5\n",
    "\n",
    "fir_name, sec_name = input(\"Enter Both Names: \").split(',')\n",
    "re = \"\"\n",
    "for chara in fir_name:\n",
    "    if chara in sec_name:\n",
    "        re += chara\n",
    "for chara in sec_name:\n",
    "     if chara in fir_name:\n",
    "         re += chara\n",
    "if (len(re) == 0):\n",
    "    print(\"Nothing in common.\")\n",
    "else:\n",
    "    print(re)"
   ]
  },
  {
   "cell_type": "code",
   "execution_count": 7,
   "metadata": {},
   "outputs": [
    {
     "name": "stdout",
     "output_type": "stream",
     "text": [
      "Please enter your password: ohmybracu\n",
      "Uppercase character missing, Digit missing, Special character missing\n"
     ]
    }
   ],
   "source": [
    "#STRING-6\n",
    "\n",
    "Password_inp= input(\"Please enter your password: \")\n",
    "lower_case_Coun=0\n",
    "upper_case_Count=0\n",
    "digit_Count=0\n",
    "special_Count=0\n",
    "special='_,$,#,@'\n",
    "additi=''\n",
    "for iem in Password_inp:\n",
    "    if (ord(\"A\")<ord(iem)<ord(\"Z\")):\n",
    "        upper_case_Count+= 1\n",
    "\n",
    "    if (ord(\"a\")<ord(iem)<ord(\"z\")):\n",
    "        lower_case_Coun+= 1\n",
    "\n",
    "    if (ord(\"0\") < ord(iem)<ord(\"9\")):\n",
    "        digit_Count += 1\n",
    "\n",
    "    if (iem in special):\n",
    "        special_Count += 1\n",
    "\n",
    "if (lower_case_Coun!=0) and (upper_case_Count != 0) and (digit_Count != 0) and (special_Count != 0):\n",
    "    print('OK')\n",
    "\n",
    "else:\n",
    "    if lower_case_Coun==0:\n",
    "        additi+=('Lowercase character missing, ')\n",
    "        \n",
    "    if upper_case_Count==0:\n",
    "        additi+=('Uppercase character missing, ')\n",
    "        \n",
    "    if digit_Count==0:\n",
    "        additi+=('Digit missing, ')\n",
    "        \n",
    "    if special_Count==0:\n",
    "        additi+=('Special character missing, ')\n",
    "        \n",
    "    print(additi[0:-2])"
   ]
  },
  {
   "cell_type": "code",
   "execution_count": 1,
   "metadata": {},
   "outputs": [
    {
     "name": "stdout",
     "output_type": "stream",
     "text": [
      "Please Enter input:10\n",
      "Please Enter input:10\n",
      "Please Enter input:20\n",
      "Please Enter input:30\n",
      "Please Enter input:40\n",
      "Please Enter input:50\n",
      "Please Enter input:50\n",
      "Please Enter input:60\n",
      "Please Enter input:70\n",
      "Please Enter input:90\n",
      "Please Enter input:STOP\n",
      "10 - 2 times\n",
      "20 - 1 times\n",
      "30 - 1 times\n",
      "40 - 1 times\n",
      "50 - 2 times\n",
      "60 - 1 times\n",
      "70 - 1 times\n",
      "90 - 1 times\n"
     ]
    }
   ],
   "source": [
    "#LIST-1\n",
    "\n",
    "num_list= []\n",
    "list1= []\n",
    "summ = 0\n",
    "\n",
    "elem = input('Please Enter input:')\n",
    "while elem != \"STOP\":\n",
    "    num_list.append(elem)\n",
    "    elem=input(\"Please Enter input:\")\n",
    "    \n",
    "for x in num_list:\n",
    "    if (x not in list1):\n",
    "        list1.append(x)\n",
    "        \n",
    "for y in list1:\n",
    "    summ=0\n",
    "    for z in num_list:\n",
    "        if y == z:\n",
    "            summ=summ+1\n",
    "    print(y,\"-\",summ,'times')"
   ]
  },
  {
   "cell_type": "code",
   "execution_count": 5,
   "metadata": {},
   "outputs": [
    {
     "name": "stdout",
     "output_type": "stream",
     "text": [
      "Number4\n",
      "1 2 3\n",
      "4 5 6\n",
      "7 8 9\n",
      "10 11 12\n",
      "33\n",
      "[10, 11, 12]\n"
     ]
    }
   ],
   "source": [
    "#LIST-2\n",
    "\n",
    "a=int(input('Number'))\n",
    "lis_1=0\n",
    "for i in range(a):\n",
    " lis=list(map(int,input().split(\" \")))\n",
    " sum=0\n",
    " for i in lis:\n",
    "  sum+=i\n",
    " lis_1=max(sum,lis_1)\n",
    " if(lis_1==sum):\n",
    "  lis_2=list(l)\n",
    "\n",
    "print(lis_1)\n",
    "\n",
    "print(lis_2)"
   ]
  },
  {
   "cell_type": "code",
   "execution_count": 6,
   "metadata": {},
   "outputs": [
    {
     "name": "stdout",
     "output_type": "stream",
     "text": [
      "Enter Number: 2 3 6\n",
      "Enter Number2: 3 4 5\n",
      "[6, 8, 10, 9, 12, 15, 18, 24, 30]\n"
     ]
    }
   ],
   "source": [
    "#LIST-3\n",
    "\n",
    "\n",
    "inp_1=input('Enter Number: ').split()\n",
    "inp_2=input('Enter Number2: ').split()\n",
    "li=[]\n",
    "for sab in inp_1:\n",
    "    for uz in inp_2:\n",
    "        equ=int(sab)*int(uz)\n",
    "        li.append(equ)\n",
    "print(li)"
   ]
  },
  {
   "cell_type": "code",
   "execution_count": 7,
   "metadata": {},
   "outputs": [
    {
     "name": "stdout",
     "output_type": "stream",
     "text": [
      "Enter Numbers: 1 4 2 3\n",
      "Enter Numbers: 2 1 4 6 10\n",
      "Enter Numbers: 1 4 -1 6\n",
      "Enter Numbers: STOP\n",
      "UB Jumper\n",
      "UB Jumper\n",
      "Not UB Jumper\n"
     ]
    }
   ],
   "source": [
    "#LIST-4\n",
    "\n",
    "li_1= []\n",
    "while True:\n",
    "    inp=input(\"Enter Numbers: \")\n",
    "    if (inp !=\"STOP\"):\n",
    "        li_1.append(inp)\n",
    "    else:\n",
    "        break\n",
    "for sab in li_1:\n",
    "    li_2=[]\n",
    "    li_2=sab.split(\" \")\n",
    "    li_3=[]\n",
    "    for uz in range(len(li_2)-1):\n",
    "        equ=int(li_2[uz])-int(li_2[uz+1])\n",
    "        if (equ<0):\n",
    "            li_3.append(equ*-1)\n",
    "        else:\n",
    "            li_3.append(equ)\n",
    "    jump=True\n",
    "    for ahm in range(1,len(li_2)):\n",
    "        if ahm in li_3:\n",
    "            pass\n",
    "        else:\n",
    "            jump=False\n",
    "    if jump==True:\n",
    "        print(\"UB Jumper\")\n",
    "    else:\n",
    "        print(\"Not UB Jumper\")"
   ]
  },
  {
   "cell_type": "code",
   "execution_count": 8,
   "metadata": {},
   "outputs": [
    {
     "name": "stdout",
     "output_type": "stream",
     "text": [
      "Enter Input: Bracu1234\n",
      "acruB1324\n"
     ]
    }
   ],
   "source": [
    "# LIST-5\n",
    "\n",
    "\n",
    "inp = input('Enter Input: ')\n",
    "upper_li = []\n",
    "lower_li = []\n",
    "even_li = []\n",
    "odd_li = []\n",
    "final_li = []\n",
    "new_li = ''\n",
    "for sab in inp:\n",
    "    if 65 <= ord(sab) <= 90:\n",
    "        upper_li += sab\n",
    "    elif 97 <= ord(sab) <= 122:\n",
    "        lower_li += sab\n",
    "    elif 48 <= ord(sab) <= 57 and ord(sab) % 2 == 0:\n",
    "        even_li += sab\n",
    "    elif 48 <= ord(sab) <= 57 and ord(sab) % 2 == 1:\n",
    "        odd_li += sab\n",
    "final_li = sorted(lower_li) + sorted(upper_li) + sorted(odd_li) + sorted(even_li)\n",
    "for ahm in final_li:\n",
    "    new_li += ahm\n",
    "print(new_li)\n",
    "\n"
   ]
  },
  {
   "cell_type": "code",
   "execution_count": 9,
   "metadata": {},
   "outputs": [
    {
     "name": "stdout",
     "output_type": "stream",
     "text": [
      "Enter the Input: 5 2\n",
      "Enter the Input: 0 4 5 1 0\n",
      "Output:  1\n"
     ]
    }
   ],
   "source": [
    "#LIST-6\n",
    "lis=[]\n",
    "lis_1=[]\n",
    "inpu_1=input(\"Enter the Input: \").split(\" \")\n",
    "inpu_2=input(\"Enter the Input: \").split(\" \")\n",
    "\n",
    "for sab in inpu_1:\n",
    "    lis.append(int(sab))\n",
    "\n",
    "for uz in inpu_2:\n",
    "    lis_1.append(int(uz))\n",
    "\n",
    "lis_3=[]\n",
    "\n",
    "for san in lis_1:\n",
    "    equ_1=int(san)+int(lis[-1])\n",
    "    if (equ_1<=5):\n",
    "        lis_3.append(san)\n",
    "equ=len(lis_3)\n",
    "print(\"Output: \",equ//3)\n",
    "\n",
    "\n",
    "\n"
   ]
  },
  {
   "cell_type": "code",
   "execution_count": 10,
   "metadata": {},
   "outputs": [
    {
     "name": "stdout",
     "output_type": "stream",
     "text": [
      "Enter the Dictionary:a: 100, b: 100, c: 200, d: 300\n",
      "Enter the Dictionary:a: 300, b: 200, d: 400, e: 200\n",
      "{'a': 400, ' b': 300, ' c': 200, ' d': 700, ' e': 200}\n",
      "values: (200, 300, 400, 700)\n"
     ]
    }
   ],
   "source": [
    "\n",
    "#DICTIONARY &TUPLE-1\n",
    "\n",
    "inp_1=input('Enter the Dictionary:').split(',')\n",
    "inp_2=input('Enter the Dictionary:').split(',')\n",
    "dic={}\n",
    "for sab in inp_1:\n",
    "    if sab!= ' ':\n",
    "        item=sab.split(':')\n",
    "        dic[item[0]]=int(item[1])\n",
    "\n",
    "dic_1={}\n",
    "for sab in inp_2:\n",
    "    if sab  != ' ':\n",
    "        item=sab.split(':')\n",
    "        dic_1[item[0]]=int(item[1])\n",
    "\n",
    "dic_2 = {}\n",
    "for key,value in dic.items():\n",
    "    for key_1,value_1 in dic_1.items():\n",
    "        if key == key_1:\n",
    "            summ=value+value_1\n",
    "            dic_2[key]=summ\n",
    "dic.update(dic_1)\n",
    "dic.update(dic_2)\n",
    "li_1=[]\n",
    "for value_2 in dic.values():\n",
    "    li_1.append(value_2)\n",
    "\n",
    "li_2=[]\n",
    "for value_3 in li_1:\n",
    "    if value_3 not in li_2:\n",
    "        li_2.append(value_3)\n",
    "\n",
    "li_2.sort()\n",
    "print(dic)\n",
    "tuple_1=tuple(li_2)\n",
    "print('values:',tuple_1)\n"
   ]
  },
  {
   "cell_type": "code",
   "execution_count": 11,
   "metadata": {},
   "outputs": [
    {
     "name": "stdout",
     "output_type": "stream",
     "text": [
      "Enter the Numbers :10\n",
      "Enter the Numbers :20\n",
      "Enter the Numbers :30\n",
      "Enter the Numbers :40\n",
      "Enter the Numbers :50\n",
      "Enter the Numbers :50\n",
      "Enter the Numbers :40\n",
      "Enter the Numbers :60\n",
      "Enter the Numbers :70\n",
      "Enter the Numbers :10\n",
      "Enter the Numbers :STOP\n",
      "10-2 times\n",
      "20-1 times\n",
      "30-1 times\n",
      "40-2 times\n",
      "50-2 times\n",
      "60-1 times\n",
      "70-1 times\n"
     ]
    }
   ],
   "source": [
    "#DICTIONARY & TUPLE-2\n",
    "li=[]\n",
    "dic={}\n",
    "while(True):\n",
    "    inp=input(\"Enter the Numbers :\")\n",
    "    if (inp=='STOP'):\n",
    "\n",
    "        break\n",
    "    else:\n",
    "        li.append(inp)\n",
    "for sab in li:\n",
    "    if sab in dic.keys():\n",
    "        dic[sab]+=1\n",
    "    else:\n",
    "        dic[sab]=1\n",
    "for san,ah in dic.items():\n",
    "    print(str(san)+'-'+str(ah)+' '+'times')"
   ]
  },
  {
   "cell_type": "code",
   "execution_count": 12,
   "metadata": {},
   "outputs": [
    {
     "name": "stdout",
     "output_type": "stream",
     "text": [
      "{'value1': ['key1', 'key3'], 'value2': ['key2']}\n"
     ]
    }
   ],
   "source": [
    "\n",
    "#DICTIONARY & TUPLE- 3\n",
    "\n",
    "inp={'key1':'value1','key2':'value2','key3':'value1'}\n",
    "emp_dic={}\n",
    "\n",
    "for sab in inp:\n",
    "    equ=inp[sab]\n",
    "    if (equ not in emp_dic.keys()):\n",
    "        emp_dic[equ]=[sab]\n",
    "        \n",
    "    else:\n",
    "        emp_dic[equ].append(sab)\n",
    "        \n",
    "print(emp_dic)"
   ]
  },
  {
   "cell_type": "code",
   "execution_count": 13,
   "metadata": {},
   "outputs": [
    {
     "name": "stdout",
     "output_type": "stream",
     "text": [
      "Enter the first word: evil\n",
      "Enter the second word: live\n",
      "Those strings are anagrams.\n"
     ]
    }
   ],
   "source": [
    "#DICTIONARY& TUPLE- 4\n",
    "\n",
    "usr_inp_1=input(\"Enter the first word: \")\n",
    "usr_inp_2=input(\"Enter the second word: \")\n",
    "dic_1={}\n",
    "dic_2={}\n",
    "\n",
    "if (len(usr_inp_1)!=len(usr_inp_2)):\n",
    "    print(\"Those strings are not anagrams.\")\n",
    "\n",
    "else:\n",
    "    for sab in usr_inp_1:\n",
    "        dic_1.update({sab:1})\n",
    "    for che in usr_inp_2:\n",
    "        dic_2.update({che:2})\n",
    "\n",
    "    equ=True\n",
    "    for san in dic_1:\n",
    "        if san in dic_2:\n",
    "            pass\n",
    "        else:\n",
    "            equ=False\n",
    "    if (equ==True):\n",
    "        print(\"Those strings are anagrams.\")\n",
    "    else:\n",
    "        print(\"Those strings are not anagrams.\")"
   ]
  },
  {
   "cell_type": "code",
   "execution_count": 14,
   "metadata": {},
   "outputs": [
    {
     "name": "stdout",
     "output_type": "stream",
     "text": [
      "Hello, World!\n",
      "4433555555666110966677755531111"
     ]
    }
   ],
   "source": [
    "# DICTIONARY& TUPLE- 5\n",
    "\n",
    "usr_inp_1 = input('')\n",
    "usr_inp_1 = usr_inp_1.upper()\n",
    "dic = {1: \".,?!:\", 2: \"ABC\", 3: \"DEF\", 4: \"GHI\", 5: \"JKL\", 6: \"MNO\", 7: \"PQRS\", 8: \"TUV\", 9: \"WXYZ\", 0: \" \"}\n",
    "for sab in usr_inp_1:\n",
    "    for san, che in dic.items():\n",
    "        count = 0\n",
    "        for li in che:\n",
    "            count += 1\n",
    "            if sab == li:\n",
    "                print(str(san) * count, end=\"\")\n"
   ]
  },
  {
   "cell_type": "code",
   "execution_count": null,
   "metadata": {},
   "outputs": [],
   "source": []
  }
 ],
 "metadata": {
  "kernelspec": {
   "display_name": "Python 3",
   "language": "python",
   "name": "python3"
  },
  "language_info": {
   "codemirror_mode": {
    "name": "ipython",
    "version": 3
   },
   "file_extension": ".py",
   "mimetype": "text/x-python",
   "name": "python",
   "nbconvert_exporter": "python",
   "pygments_lexer": "ipython3",
   "version": "3.8.5"
  }
 },
 "nbformat": 4,
 "nbformat_minor": 4
}
