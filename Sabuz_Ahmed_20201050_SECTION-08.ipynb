{
 "cells": [
  {
   "cell_type": "code",
   "execution_count": 1,
   "metadata": {},
   "outputs": [
    {
     "name": "stdout",
     "output_type": "stream",
     "text": [
      "=================================\n",
      "Product with Code: 16039 added\n",
      "=================================\n",
      "Product name:Core i7 11700  Category:Processor Product Code: 16039\n",
      "=================================\n",
      "=================================\n",
      "A product without code cannot be added.\n",
      "Product with Code: 18080 added\n",
      "=================================\n",
      "Product name:ASRock B550 Taichi  Category:Motherboard Product Code: 18080\n",
      "=================================\n",
      "=================================\n",
      "Product with Code: 17699 added\n",
      "=================================\n",
      "Product name:Ryzen 5900X  Category:Processor Product Code: 17699\n",
      "=================================\n",
      "=================================\n",
      "Product with Code: 8694 added\n",
      "Product with Code: 17071 added\n",
      "=================================\n",
      "Product name:ASUS ROG Strix RTX3080  Category:GPU Product Code: 17071\n",
      "=================================\n"
     ]
    }
   ],
   "source": [
    "class TechShop:\n",
    "  def __init__(self,name1=None):\n",
    "    self.com=name1\n",
    "    self.name1= None\n",
    "    self.ctg=None\n",
    "    self.code=None\n",
    "\n",
    "  def addProduct(self, *obj):\n",
    "    for x in obj:\n",
    "      self.name1=x.name1\n",
    "      self.ctg=x.ctg\n",
    "      self.code=x.code\n",
    "      if self.code == None:\n",
    "        print(\"A product without code cannot be added.\")\n",
    "      else:\n",
    "        print(\"Product with Code:\", self.code, \"added\")\n",
    "\n",
    "  def printProducts(self):\n",
    "    print(\"Product name:\" + self.name1, \" Category:\" + self.ctg + \" Product Code:\", self.code)\n",
    "class Product:\n",
    "  def __init__(self, *p):\n",
    "    self.name1 = p[0]\n",
    "    self.ctg = p[1]\n",
    "    self.code = None\n",
    "    if len(p) == 3:\n",
    "      self.code = p[2]\n",
    "\n",
    "  def setCode(self, c):\n",
    "    self.code = c\n",
    "obj = TechShop(\"Star Tech\")\n",
    "p1 = Product(\"Core i7 11700\", \"Processor\", 16039)\n",
    "print(\"=================================\")\n",
    "obj.addProduct(p1)\n",
    "print(\"=================================\")\n",
    "obj.printProducts()\n",
    "print(\"=================================\")\n",
    "p2 = Product(\"Ryzen 5900X\", \"Processor\")\n",
    "p3 = Product(\"ASRock B550 Taichi\", \"Motherboard\", 18080)\n",
    "print(\"=================================\")\n",
    "obj.addProduct(p2, p3)\n",
    "print(\"=================================\")\n",
    "obj.printProducts()\n",
    "print(\"=================================\")\n",
    "p2.setCode(17699)\n",
    "print(\"=================================\")\n",
    "obj.addProduct(p2)\n",
    "print(\"=================================\")\n",
    "obj.printProducts()\n",
    "print(\"=================================\")\n",
    "p4 = Product(\"ASUS ROG Strix Z390-F\", \"Motherboard\", 8694)\n",
    "p5 = Product(\"ASUS ROG Strix RTX3080\", \"GPU\", 17071)\n",
    "print(\"=================================\")\n",
    "obj.addProduct(p4, p5)\n",
    "print(\"=================================\")\n",
    "obj.printProducts()\n",
    "print(\"=================================\")"
   ]
  },
  {
   "cell_type": "code",
   "execution_count": null,
   "metadata": {},
   "outputs": [],
   "source": []
  }
 ],
 "metadata": {
  "kernelspec": {
   "display_name": "Python 3",
   "language": "python",
   "name": "python3"
  },
  "language_info": {
   "codemirror_mode": {
    "name": "ipython",
    "version": 3
   },
   "file_extension": ".py",
   "mimetype": "text/x-python",
   "name": "python",
   "nbconvert_exporter": "python",
   "pygments_lexer": "ipython3",
   "version": "3.8.5"
  }
 },
 "nbformat": 4,
 "nbformat_minor": 4
}
