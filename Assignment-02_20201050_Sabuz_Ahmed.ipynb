{
 "cells": [
  {
   "cell_type": "code",
   "execution_count": 1,
   "metadata": {},
   "outputs": [
    {
     "name": "stdout",
     "output_type": "stream",
     "text": [
      "Give first input :0\n",
      "Give second input :5\n",
      "0\n"
     ]
    }
   ],
   "source": [
    "#TASK1\n",
    "userinput=int(input('Give first input :'))\n",
    "userinput_2=int(input('Give second input :'))\n",
    "def givenum(a,b):\n",
    "    if(a==0 or b ==0):\n",
    "        return 0\n",
    "    else:\n",
    "        return(userinput%userinput_2/userinput_2)\n",
    "\n",
    "print(givenum(userinput,userinput_2))"
   ]
  },
  {
   "cell_type": "code",
   "execution_count": 2,
   "metadata": {},
   "outputs": [
    {
     "name": "stdout",
     "output_type": "stream",
     "text": [
      "Enter your height-175\n",
      "Enter your weight-96\n",
      "('Score is', '31.3', 'You are Obese')\n"
     ]
    }
   ],
   "source": [
    "#TASK2\n",
    "\n",
    "userinput=int(input('Enter your height-'))\n",
    "userinput_1=int(input('Enter your weight-'))\n",
    "\n",
    "def amimotokom(height, weight):\n",
    "    height = (height / 100)\n",
    "    result = (weight / height ** 2)\n",
    "    stock = 0\n",
    "    if result < 18.5:\n",
    "        return \"Score is\", '%.1f' % result, 'You are Underweight'\n",
    "    elif (result >= 18.5 and result <= 24.9):\n",
    "        return \"Score is\", '%.1f' % result, 'You are Normal'\n",
    "    elif (result >= 25 and result <= 30):\n",
    "        return \"Score is\", '%.1f' % result, 'You are Overrweight'\n",
    "    elif result > 30:\n",
    "        return \"Score is\", '%.1f' % result, 'You are Obese'\n",
    "\n",
    "print(amimotokom(userinput,userinput_1))"
   ]
  },
  {
   "cell_type": "code",
   "execution_count": 3,
   "metadata": {},
   "outputs": [
    {
     "name": "stdout",
     "output_type": "stream",
     "text": [
      "Enter your number_1-0\n",
      "Enter your number_2-10\n",
      "Enter your number_3-2\n",
      "20\n"
     ]
    }
   ],
   "source": [
    "#TASK3\n",
    "userinput=int(input('Enter your number_1-'))\n",
    "userinput_1=int(input('Enter your number_2-'))\n",
    "userinput_2=int(input('Enter your number_3-'))\n",
    "def userFunction( userinput,userinput_1,userinput_2):\n",
    "    total=0\n",
    "    for sab in range(userinput,userinput_1):\n",
    "        if(sab%userinput_2==0):\n",
    "            total +=sab\n",
    "    return total\n",
    "print(userFunction(userinput,userinput_1,userinput_2))\n",
    "\n"
   ]
  },
  {
   "cell_type": "code",
   "execution_count": 4,
   "metadata": {},
   "outputs": [
    {
     "name": "stdout",
     "output_type": "stream",
     "text": [
      "Enter the Burger and Location name: Beef Burger,Dhanmoddi\n",
      "243.6\n"
     ]
    }
   ],
   "source": [
    "#TASK4\n",
    "burger_name,location= input(\"Enter the Burger and Location name: \").split(\",\")\n",
    "\n",
    "def myFunction(burger_name, location='Mohakhali'):\n",
    "  dict={'BBQ Chicken Cheese Burger':250,'Naga Drums':200,'Beef Burger':170 }\n",
    "  total=0\n",
    "  total =total+dict[burger_name]\n",
    "\n",
    "  tax=.08* total\n",
    "\n",
    "  if location==\"Mohakhali\":\n",
    "    count =total + 40 + tax\n",
    "  else:\n",
    "    count=total + 60 + tax\n",
    "  return count\n",
    "\n",
    "print(myFunction(burger_name, location))\n",
    "\n"
   ]
  },
  {
   "cell_type": "code",
   "execution_count": 5,
   "metadata": {},
   "outputs": [
    {
     "name": "stdout",
     "output_type": "stream",
     "text": [
      "Enter mail , new domain and old domain: alice@kaaj.com,sheba.xyz,kaaj.com\n",
      "Changed: alice@sheba.xyz\n"
     ]
    }
   ],
   "source": [
    "#task-5\n",
    "email,ndomain,odomain = input(\"Enter mail , new domain and old domain: \").split(\",\")\n",
    "def newdomainfunction(email,ndomain,odomain):\n",
    "    if ndomain in email:\n",
    "        output = (\"Unchanged: \"+email)\n",
    "    else:\n",
    "        name_part=(email).split(\"@\")\n",
    "        output =(\"Changed: \"+name_part[0]+\"@\"+ndomain)\n",
    "    print(output)\n",
    "\n",
    "newdomainfunction(email,ndomain,odomain)"
   ]
  },
  {
   "cell_type": "code",
   "execution_count": 6,
   "metadata": {},
   "outputs": [
    {
     "name": "stdout",
     "output_type": "stream",
     "text": [
      "Enter your name: Steve Jobs\n",
      "Vowels: e,e,o Total number of vowels: 3\n"
     ]
    }
   ],
   "source": [
    "#TASK6\n",
    "userinput = input(\"Enter your name: \")\n",
    "def myFunction(userinput):\n",
    "  vowel=['a','e','i','u','o']\n",
    "  vowel_1=''\n",
    "  total=0\n",
    "  for i in userinput:\n",
    "    if i in vowel:\n",
    "      total+=1\n",
    "      if (len(vowel_1)==0):\n",
    "        vowel_1=vowel_1+i\n",
    "      else:\n",
    "        vowel_1=vowel_1+\",\"+i\n",
    "\n",
    "  if (total==0):\n",
    "    print(\"No vowels in the name\")\n",
    "  elif (total>0):\n",
    "    print(\"Vowels:\",vowel_1+' Total number of vowels: '+str(total))\n",
    "\n",
    "myFunction(userinput)"
   ]
  },
  {
   "cell_type": "code",
   "execution_count": 7,
   "metadata": {},
   "outputs": [
    {
     "name": "stdout",
     "output_type": "stream",
     "text": [
      "Enter your input: madam\n",
      "Palindrome\n"
     ]
    }
   ],
   "source": [
    "#TASK7\n",
    "userinput = input(\"Enter your input: \")\n",
    "def program(userinput):\n",
    "    variable = -1\n",
    "    condition = False\n",
    "    leng = (len(userinput) // 2)\n",
    "    for x in range(leng+1):\n",
    "        if userinput[x] != userinput[variable]:\n",
    "            condition = True\n",
    "            break\n",
    "        variable= variable - 1\n",
    "    if condition == True:\n",
    "        print('Not a palindrome')\n",
    "    else:\n",
    "        print('Palindrome')\n",
    "program(userinput)"
   ]
  },
  {
   "cell_type": "code",
   "execution_count": 8,
   "metadata": {},
   "outputs": [
    {
     "name": "stdout",
     "output_type": "stream",
     "text": [
      "Enter number of days: 4320\n",
      "11 years,10 months and 5 days\n"
     ]
    }
   ],
   "source": [
    "#Task8\n",
    "userinput=int(input(\"Enter number of days: \"))\n",
    "def functionfornumber(userinput):\n",
    "    years=(userinput//365)\n",
    "    days=(userinput-(years*365))\n",
    "    print(years,\"years,\",end=\"\")\n",
    "    if (days>=30):\n",
    "        months=(days)//30\n",
    "        days=days-(months*30)\n",
    "        print(months,\"months \",end=\"\")\n",
    "    if(days>0):\n",
    "        userinput=days\n",
    "        print(\"and\",userinput,\"days\")\n",
    "functionfornumber(userinput)"
   ]
  },
  {
   "cell_type": "code",
   "execution_count": 9,
   "metadata": {},
   "outputs": [
    {
     "name": "stdout",
     "output_type": "stream",
     "text": [
      "Enter sentence: my favourite animal is a dog. a dog has sharp teeth so that it can eat flesh very easily. do you know my pet dog’s name? i love my pet very much.\n",
      "My favourite animal is a dog. A dog has sharp teeth so that it can eat flesh very easily. Do you know my pet dog’s name? I love my pet very much.\n"
     ]
    }
   ],
   "source": [
    "userinput=input(\"Enter sentence: \")\n",
    "def capital_maker(userinput):\n",
    "    sentence = \"\"\n",
    "    word=userinput[0].upper()\n",
    "    sentence += word\n",
    "    for i in range(1,len(userinput)):\n",
    "        if (userinput[i-2]==\".\" or userinput[i-2]==\"!\"or userinput[i-2]==\"?\") and userinput[i-1]==\" \":\n",
    "            new_1=userinput[i].upper()\n",
    "            sentence+=new_1\n",
    "        elif userinput[i]=='i' and userinput[i-1]== \" \" and userinput[i+1]==' ':\n",
    "            new_1=userinput[i].upper()\n",
    "            sentence+=new_1\n",
    "        else:\n",
    "            sentence+=userinput[i]\n",
    "    print(sentence)\n",
    "capital_maker(userinput)"
   ]
  },
  {
   "cell_type": "code",
   "execution_count": null,
   "metadata": {},
   "outputs": [],
   "source": []
  }
 ],
 "metadata": {
  "kernelspec": {
   "display_name": "Python 3",
   "language": "python",
   "name": "python3"
  },
  "language_info": {
   "codemirror_mode": {
    "name": "ipython",
    "version": 3
   },
   "file_extension": ".py",
   "mimetype": "text/x-python",
   "name": "python",
   "nbconvert_exporter": "python",
   "pygments_lexer": "ipython3",
   "version": "3.8.5"
  }
 },
 "nbformat": 4,
 "nbformat_minor": 4
}
